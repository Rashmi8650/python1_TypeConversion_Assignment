{
 "cells": [
  {
   "cell_type": "markdown",
   "id": "1d0572e4",
   "metadata": {},
   "source": [
    "# Type conversion"
   ]
  },
  {
   "cell_type": "code",
   "execution_count": 4,
   "id": "7f92f8a0",
   "metadata": {},
   "outputs": [
    {
     "name": "stdout",
     "output_type": "stream",
     "text": [
      "5\n",
      "<class 'int'>\n",
      "5.0\n",
      "<class 'float'>\n"
     ]
    }
   ],
   "source": [
    "#Convert an integer to a floatig-point number.\n",
    "num=int(input())\n",
    "print(type(num))\n",
    "num1=float(num)\n",
    "print(num1)\n",
    "print(type(num1))"
   ]
  },
  {
   "cell_type": "code",
   "execution_count": 5,
   "id": "21ec2910",
   "metadata": {},
   "outputs": [
    {
     "name": "stdout",
     "output_type": "stream",
     "text": [
      "7.9\n",
      "<class 'float'>\n",
      "7\n",
      "<class 'int'>\n"
     ]
    }
   ],
   "source": [
    "#Convert a float to an integer\n",
    "num2=float(input())\n",
    "print(type(num2))\n",
    "num3=int(num2)\n",
    "print(num3)\n",
    "print(type(num3))"
   ]
  },
  {
   "cell_type": "code",
   "execution_count": 6,
   "id": "ecd8bf30",
   "metadata": {},
   "outputs": [
    {
     "name": "stdout",
     "output_type": "stream",
     "text": [
      "55\n",
      "<class 'int'>\n",
      "55\n",
      "<class 'str'>\n"
     ]
    }
   ],
   "source": [
    "#convert an integer to a string\n",
    "num4=int(input())\n",
    "print(type(num4))\n",
    "s1=str(num4)\n",
    "print(s1)\n",
    "print(type(s1))"
   ]
  },
  {
   "cell_type": "code",
   "execution_count": 10,
   "id": "46f63660",
   "metadata": {},
   "outputs": [
    {
     "name": "stdout",
     "output_type": "stream",
     "text": [
      "4\n",
      "66\n",
      "87\n",
      "yan\n",
      "rash\n",
      "['66', '87', 'yan', 'rash']\n",
      "<class 'list'>\n",
      "('66', '87', 'yan', 'rash')\n",
      "<class 'tuple'>\n"
     ]
    }
   ],
   "source": [
    "#convert a list to a tuple\n",
    "l=[]\n",
    "size=int(input())\n",
    "for i in range(size):\n",
    "    inp=input()\n",
    "    l.append(inp)\n",
    "print(l)\n",
    "print(type(l))\n",
    "T1=tuple(l)\n",
    "print(T1)\n",
    "print(type(T1))"
   ]
  },
  {
   "cell_type": "code",
   "execution_count": 16,
   "id": "848786f8",
   "metadata": {},
   "outputs": [
    {
     "name": "stdout",
     "output_type": "stream",
     "text": [
      "<class 'tuple'>\n",
      "(56, 77, 'tiger', 'man')\n",
      "<class 'list'>\n",
      "[56, 77, 'tiger', 'man']\n"
     ]
    }
   ],
   "source": [
    "#Convert a tuple to a lis#t.\n",
    "t=(56,77,\"tiger\",\"man\")\n",
    "print(type(t))\n",
    "print(t)\n",
    "l1=list(t)\n",
    "print(type(l1))\n",
    "print(l1)"
   ]
  },
  {
   "cell_type": "code",
   "execution_count": 17,
   "id": "0402dd81",
   "metadata": {},
   "outputs": [
    {
     "name": "stdout",
     "output_type": "stream",
     "text": [
      "0b1010\n",
      "<class 'str'>\n"
     ]
    }
   ],
   "source": [
    "#Convert a decimal number to binary.\n",
    "num6=10\n",
    "type(num6)\n",
    "B1=bin(num6)\n",
    "print(B1)\n",
    "print(type(B1))"
   ]
  },
  {
   "cell_type": "code",
   "execution_count": 5,
   "id": "c0128b07",
   "metadata": {},
   "outputs": [
    {
     "name": "stdout",
     "output_type": "stream",
     "text": [
      "41\n",
      "<class 'int'>\n"
     ]
    }
   ],
   "source": [
    "#conver a binary number to decimal\n",
    "Binary=0b101001\n",
    "N=int(Binary)\n",
    "print(N)\n",
    "print(type(N))"
   ]
  },
  {
   "cell_type": "code",
   "execution_count": null,
   "id": "2162eb3a",
   "metadata": {},
   "outputs": [],
   "source": []
  }
 ],
 "metadata": {
  "kernelspec": {
   "display_name": "Python 3 (ipykernel)",
   "language": "python",
   "name": "python3"
  },
  "language_info": {
   "codemirror_mode": {
    "name": "ipython",
    "version": 3
   },
   "file_extension": ".py",
   "mimetype": "text/x-python",
   "name": "python",
   "nbconvert_exporter": "python",
   "pygments_lexer": "ipython3",
   "version": "3.11.5"
  }
 },
 "nbformat": 4,
 "nbformat_minor": 5
}
